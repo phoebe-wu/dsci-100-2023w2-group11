{
 "cells": [
  {
   "attachments": {},
   "cell_type": "markdown",
   "metadata": {},
   "source": [
    "## **Group Project Proposal**\n",
    "\n",
    "\n",
    "##### **Title** : Yummy Or Dummy?\n",
    "Angela Li, Phoebe Wu, Sarah Feng\n",
    "\n",
    "##### **Introduction**\n",
    "\n",
    "Mushrooms have been a part of our diet for centuries; however, not all mushrooms are safe for consumption.  Any person familiar with the outdoors knows not to eat any mushroom in the wild as many mushroom species produce toxic substances and the consumption of some can even be fatal. There is no single trait that can differentiate all edible mushrooms from the poisonous ones. From this dataset of known edible and poisonous mushrooms, we wish to train a model that can help predict whether a mushroom is edible or poisonous from their physical features, population, and habitat."
   ]
  },
  {
   "attachments": {},
   "cell_type": "markdown",
   "metadata": {},
   "source": [
    "##### **Preliminary Exploratory Data Analysis**\n",
    "Read dataset from web into Jupyter Notebook with Python"
   ]
  },
  {
   "cell_type": "code",
   "execution_count": null,
   "metadata": {},
   "outputs": [],
   "source": [
    "import pandas as pd\n",
    "import altair as alt\n",
    "import sklearn\n",
    "from sklearn.model_selection import train_test_split"
   ]
  },
  {
   "cell_type": "code",
   "execution_count": null,
   "metadata": {},
   "outputs": [],
   "source": [
    "# ## Adapted from: https://medium.com/@jeff.daniel77/accessing-the-kaggle-com-api-with-jupyter-notebook-on-windows-d6f330bc6953\n",
    "# ## Retrieve own API key & token from Kaggle.com\n",
    "# !kaggle datasets download -d uciml/mushroom-classification\n",
    "# !unzip 'mushroom-classification.zip'\n",
    "mushrooms_df = pd.read_csv('https://archive.ics.uci.edu/ml/machine-learning-databases/mushroom/agaricus-lepiota.data')\n",
    "mushrooms_df"
   ]
  },
  {
   "attachments": {},
   "cell_type": "markdown",
   "metadata": {},
   "source": [
    "Data from Kaggle is already tidy."
   ]
  },
  {
   "attachments": {},
   "cell_type": "markdown",
   "metadata": {},
   "source": [
    "Separate our target class from our features, make training and test sets and use `describe()` to view quick summary of our training set"
   ]
  },
  {
   "cell_type": "code",
   "execution_count": null,
   "metadata": {},
   "outputs": [],
   "source": [
    "X = mushrooms_df.drop(columns = ['class'])\n",
    "y = mushrooms_df['class']\n",
    "\n",
    "X_train, X_test, y_train, y_test = train_test_split(X, y, test_size=0.2, random_state=123)\n",
    "\n",
    "X_train.describe()"
   ]
  },
  {
   "attachments": {},
   "cell_type": "markdown",
   "metadata": {},
   "source": [
    "Create histograms to compare distributions for each predictor variables"
   ]
  },
  {
   "cell_type": "code",
   "execution_count": null,
   "metadata": {},
   "outputs": [],
   "source": [
    "alt.Chart(X_train).mark_bar().encode(\n",
    "        x=alt.X(alt.repeat('repeat')),\n",
    "        y=\"count()\",\n",
    "    ).properties(\n",
    "        width=200,\n",
    "        height=200\n",
    "    ).repeat(\n",
    "        repeat= list(X_train.columns), \n",
    "        columns=5\n",
    "    )"
   ]
  },
  {
   "attachments": {},
   "cell_type": "markdown",
   "metadata": {},
   "source": [
    "\n",
    "\n",
    "##### **Methods**\n",
    "\n",
    "##### **Expected Outcomes and Significance**"
   ]
  }
 ],
 "metadata": {
  "kernelspec": {
   "display_name": "Python 3",
   "language": "python",
   "name": "python3"
  },
  "language_info": {
   "codemirror_mode": {
    "name": "ipython",
    "version": 3
   },
   "file_extension": ".py",
   "mimetype": "text/x-python",
   "name": "python",
   "nbconvert_exporter": "python",
   "pygments_lexer": "ipython3",
   "version": "3.10.9"
  },
  "orig_nbformat": 4,
  "vscode": {
   "interpreter": {
    "hash": "b0fa6594d8f4cbf19f97940f81e996739fb7646882a419484c72d19e05852a7e"
   }
  }
 },
 "nbformat": 4,
 "nbformat_minor": 2
}
